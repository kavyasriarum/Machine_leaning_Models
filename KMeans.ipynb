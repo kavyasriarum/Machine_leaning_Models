{
  "nbformat": 4,
  "nbformat_minor": 0,
  "metadata": {
    "colab": {
      "provenance": [],
      "include_colab_link": true
    },
    "kernelspec": {
      "name": "python3",
      "display_name": "Python 3"
    },
    "language_info": {
      "name": "python"
    }
  },
  "cells": [
    {
      "cell_type": "markdown",
      "metadata": {
        "id": "view-in-github",
        "colab_type": "text"
      },
      "source": [
        "<a href=\"https://colab.research.google.com/github/kavyasriarum/Machine_leaning_Models/blob/main/KMeans.ipynb\" target=\"_parent\"><img src=\"https://colab.research.google.com/assets/colab-badge.svg\" alt=\"Open In Colab\"/></a>"
      ]
    },
    {
      "cell_type": "code",
      "source": [
        "!pip install pyspark py4j"
      ],
      "metadata": {
        "colab": {
          "base_uri": "https://localhost:8080/"
        },
        "id": "2AlNOgN19M2R",
        "outputId": "24e6bfb2-baaf-458c-afd4-5ad89f28f644"
      },
      "execution_count": null,
      "outputs": [
        {
          "output_type": "stream",
          "name": "stdout",
          "text": [
            "Looking in indexes: https://pypi.org/simple, https://us-python.pkg.dev/colab-wheels/public/simple/\n",
            "Collecting pyspark\n",
            "  Downloading pyspark-3.4.0.tar.gz (310.8 MB)\n",
            "\u001b[2K     \u001b[90m━━━━━━━━━━━━━━━━━━━━━━━━━━━━━━━━━━━━━━━\u001b[0m \u001b[32m310.8/310.8 MB\u001b[0m \u001b[31m3.5 MB/s\u001b[0m eta \u001b[36m0:00:00\u001b[0m\n",
            "\u001b[?25h  Preparing metadata (setup.py) ... \u001b[?25l\u001b[?25hdone\n",
            "Requirement already satisfied: py4j in /usr/local/lib/python3.9/dist-packages (0.10.9.7)\n",
            "Building wheels for collected packages: pyspark\n",
            "  Building wheel for pyspark (setup.py) ... \u001b[?25l\u001b[?25hdone\n",
            "  Created wheel for pyspark: filename=pyspark-3.4.0-py2.py3-none-any.whl size=311317145 sha256=40e902305cac117ed9aaf0d4101cc315bed300ee23b01f5cf31b75a44a5a966d\n",
            "  Stored in directory: /root/.cache/pip/wheels/9f/34/a4/159aa12d0a510d5ff7c8f0220abbea42e5d81ecf588c4fd884\n",
            "Successfully built pyspark\n",
            "Installing collected packages: pyspark\n",
            "Successfully installed pyspark-3.4.0\n"
          ]
        }
      ]
    },
    {
      "cell_type": "code",
      "source": [
        "# Import necessary libraries\n",
        "from pyspark.sql import SparkSession\n",
        "from pyspark.ml.clustering import KMeans\n",
        "from pyspark.ml.evaluation import ClusteringEvaluator\n",
        "from pyspark.ml.feature import VectorAssembler\n",
        "from urllib.request import urlretrieve"
      ],
      "metadata": {
        "id": "YIsKQ3Qe-tH5"
      },
      "execution_count": null,
      "outputs": []
    },
    {
      "cell_type": "code",
      "source": [
        "# Step 1: Download and load the Iris dataset\n",
        "urlretrieve(\"https://archive.ics.uci.edu/ml/machine-learning-databases/iris/iris.data\", \"iris.csv\")\n",
        "spark = SparkSession.builder.appName(\"IrisKMeans\").getOrCreate()\n",
        "df = spark.read.csv(\"iris.csv\", header=False, inferSchema=True)\n",
        "df = df.toDF(\"sepal_length\", \"sepal_width\", \"petal_length\", \"petal_width\", \"class\")"
      ],
      "metadata": {
        "id": "yUEmEPz2-wAe"
      },
      "execution_count": null,
      "outputs": []
    },
    {
      "cell_type": "code",
      "source": [
        "# Step 2: Build a K-means model\n",
        "# You can choose a k value randomly, let's use k=3\n",
        "k = 3\n",
        "feature_cols = [\"sepal_length\", \"sepal_width\", \"petal_length\", \"petal_width\"]\n",
        "assembler = VectorAssembler(inputCols=feature_cols, outputCol=\"features\")\n",
        "df_assembled = assembler.transform(df)\n",
        "kmeans = KMeans(k=k, seed=1)\n",
        "model = kmeans.fit(df_assembled)\n",
        "\n",
        "# Print the cluster centers and cluster sizes\n",
        "print(\"Cluster Centers:\")\n",
        "for center in model.clusterCenters():\n",
        "    print(center)"
      ],
      "metadata": {
        "colab": {
          "base_uri": "https://localhost:8080/"
        },
        "id": "1FIT-PHK--X7",
        "outputId": "4b017601-535c-44d9-9c0b-cf768f451b9f"
      },
      "execution_count": null,
      "outputs": [
        {
          "output_type": "stream",
          "name": "stdout",
          "text": [
            "Cluster Centers:\n",
            "[5.9016129  2.7483871  4.39354839 1.43387097]\n",
            "[5.006 3.418 1.464 0.244]\n",
            "[6.85       3.07368421 5.74210526 2.07105263]\n"
          ]
        }
      ]
    },
    {
      "cell_type": "code",
      "source": [
        "# Step 3: Report the original performance using Silhouette score\n",
        "predictions = model.transform(df_assembled)\n",
        "evaluator = ClusteringEvaluator()\n",
        "silhouette = evaluator.evaluate(predictions)\n",
        "print(\"Original Silhouette Score:\", silhouette)"
      ],
      "metadata": {
        "colab": {
          "base_uri": "https://localhost:8080/"
        },
        "id": "AxNqwA4d_D_a",
        "outputId": "8468bc7c-5ae5-4a37-e30b-bfad102b0e14"
      },
      "execution_count": null,
      "outputs": [
        {
          "output_type": "stream",
          "name": "stdout",
          "text": [
            "Original Silhouette Score: 0.7354567373091194\n"
          ]
        }
      ]
    },
    {
      "cell_type": "code",
      "source": [
        "# Step 4: Try different k values to improve performance\n",
        "best_k = 0\n",
        "best_silhouette = -1.0\n",
        "for k in range(2, 13): # Trying k values from 2 to 12\n",
        "    kmeans = KMeans(k=k, seed=1)\n",
        "    model = kmeans.fit(df_assembled)\n",
        "    predictions = model.transform(df_assembled)\n",
        "    silhouette = evaluator.evaluate(predictions)\n",
        "    print(\"k =\", k, \"Silhouette Score:\", silhouette)\n",
        "    if silhouette > best_silhouette:\n",
        "        best_k = k\n",
        "        best_silhouette = silhouette"
      ],
      "metadata": {
        "colab": {
          "base_uri": "https://localhost:8080/"
        },
        "id": "Y9FRHlpu_HNj",
        "outputId": "c1caf9cb-d696-4d40-8eec-bb21b4839fa6"
      },
      "execution_count": null,
      "outputs": [
        {
          "output_type": "stream",
          "name": "stdout",
          "text": [
            "k = 2 Silhouette Score: 0.8501515983265806\n",
            "k = 3 Silhouette Score: 0.7354567373091194\n",
            "k = 4 Silhouette Score: 0.6720731409257744\n",
            "k = 5 Silhouette Score: 0.6155691231448028\n",
            "k = 6 Silhouette Score: 0.5517166229578094\n",
            "k = 7 Silhouette Score: 0.4932559686632637\n",
            "k = 8 Silhouette Score: 0.512000408959464\n",
            "k = 9 Silhouette Score: 0.5211325007507351\n",
            "k = 10 Silhouette Score: 0.6017516470706848\n",
            "k = 11 Silhouette Score: 0.44993721397644093\n",
            "k = 12 Silhouette Score: 0.4863667747325271\n"
          ]
        }
      ]
    },
    {
      "cell_type": "code",
      "source": [
        "# Step 5: Select the best k and print out the result\n",
        "print(\"Best k =\", best_k, \"gives the best performance, Silhouette =\", best_silhouette)"
      ],
      "metadata": {
        "colab": {
          "base_uri": "https://localhost:8080/"
        },
        "id": "uIWUO2l6_MQ8",
        "outputId": "f1047fd4-2a4e-44b3-817c-bb1c55bd5e6a"
      },
      "execution_count": null,
      "outputs": [
        {
          "output_type": "stream",
          "name": "stdout",
          "text": [
            "Best k = 2 gives the best performance, Silhouette = 0.8501515983265806\n"
          ]
        }
      ]
    },
    {
      "cell_type": "code",
      "source": [],
      "metadata": {
        "id": "kXPM8bxW_koB"
      },
      "execution_count": null,
      "outputs": []
    }
  ]
}